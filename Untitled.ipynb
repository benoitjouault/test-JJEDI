{
 "cells": [
  {
   "cell_type": "markdown",
   "metadata": {},
   "source": [
    "# Considerations on Schottly barrier andMoS2"
   ]
  },
  {
   "cell_type": "markdown",
   "metadata": {},
   "source": [
    "## Theory "
   ]
  },
  {
   "cell_type": "markdown",
   "metadata": {},
   "source": [
    "The physical model of the current over a Schottky contact is thermionic emission.\n",
    "The current is given by:\n",
    "$$\n",
    "J= J_0 \\left[\n",
    "\\exp\n",
    "\\left(\n",
    "\\frac{qV}{k_BT}\\right)\n",
    "-1\n",
    "\\right],\n",
    "$$\n",
    "with\n",
    "$$\n",
    "J_0= A^{**} T^2\n",
    "\\exp\n",
    "\\left(\n",
    "\\frac{-q \\Phi_B}{k_BT}\n",
    "\\right)\n",
    "$$\n",
    "where $A^{**}$ is the Richardson constant,\n",
    "$A^{**}= 4\\pi q k_B^2 m^* / h^3$= 120$(m^*/m)$ A/cm$^2$K$^2$."
   ]
  },
  {
   "cell_type": "markdown",
   "metadata": {},
   "source": [
    "In real structures, the $I-V$ curve often differ from the theory and one has to introduce the ideality factor $\\eta$. The above expression becomes:\n",
    "$$\n",
    "J= J_0 \\left[\n",
    "\\exp\n",
    "\\left(\n",
    "\\frac{qV}{\\eta k_BT}\\right)\n",
    "-1\n",
    "\\right],\n",
    "$$"
   ]
  },
  {
   "cell_type": "markdown",
   "metadata": {},
   "source": [
    "The Au-MoS$_2$ contact is believed to be non-ohmic. It is a Schottky barrier with $\\Phi_B \\simeq$ 150 meV. The effective mass is $m=0.45m_0$."
   ]
  },
  {
   "cell_type": "code",
   "execution_count": 82,
   "metadata": {},
   "outputs": [
    {
     "data": {
      "image/png": "[encoded data removed]",
      "text/plain": [
       "<Figure size 432x288 with 1 Axes>"
      ]
     },
     "metadata": {
      "needs_background": "light"
     },
     "output_type": "display_data"
    }
   ],
   "source": [
    "import numpy as np\n",
    "from matplotlib import pyplot as plt\n",
    "\n",
    "kB= 1.38e-23\n",
    "q=1.6e-19\n",
    "mr= 0.45\n",
    "Ass= 120*mr  #A/cm^2\n",
    "T=300.0\n",
    "\n",
    "eta1=1.0\n",
    "phiB= 0.45\n",
    "J0= Ass*T*T* np.exp(-q*phiB/(kB*T))\n",
    "\n",
    "V= np.linspace(-0.5,0.3,101)\n",
    "J= J0* (np.exp(q*V/(eta1*kB*T))-1)\n",
    "plt.figure()\n",
    "plt.plot(V, np.abs(J))\n",
    "plt.show()"
   ]
  },
  {
   "cell_type": "markdown",
   "metadata": {},
   "source": [
    "This is very far from the experimental observation, where we have a curve which is almost symmetric. We should take into account the fact that we have two Schottky contacts, and the MoS2 in between."
   ]
  },
  {
   "cell_type": "markdown",
   "metadata": {},
   "source": [
    "For the first junction we have:\n",
    "$$\n",
    "I= A_1 J_{01} \\left[\n",
    "\\exp\n",
    "\\left(\n",
    "\\frac{qV}{\\eta_1 k_BT}\\right)\n",
    "-1\n",
    "\\right],\n",
    "$$\n",
    "and for the second junction\n",
    "$$\n",
    "I= A_2 J_{02} \\left[\n",
    "\\exp\n",
    "\\left(\n",
    "\\frac{qV}{\\eta_2 k_BT}\\right)\n",
    "-1\n",
    "\\right].\n",
    "$$\n",
    "where $A_1$ and $A_2$ are the areas of the Schottky junctions.\n",
    "\n",
    "The voltage drops are:\n",
    "$$\n",
    "V_1= \\eta_1 \\frac{k_B T}{q} \\ln\n",
    "\\left(\n",
    "\\frac{ I} {A_1 J_{01}}\n",
    "+1\n",
    "\\right)\n",
    "$$\n",
    "and\n",
    "$$\n",
    "V_2= -\\eta_2 \\frac{k_B T}{q} \\ln\n",
    "\\left(\n",
    "-\\frac{ I} {A_2 J_{02}}\n",
    "+1\n",
    "\\right)\n",
    "$$\n",
    "\n",
    "Therefore,\n",
    "the total voltage drop across the structure is given by\n",
    "$$\n",
    "V=\n",
    " \\eta_1 \\frac{k_B T}{q} \\ln\n",
    "\\left(\n",
    "\\frac{ I} {A_1 J_{01}}\n",
    "+1\n",
    "\\right)\n",
    "-\\eta_2 \\frac{k_B T}{q} \\ln\n",
    "\\left(\n",
    "-\\frac{ I} {A_2 J_{02}}\n",
    "+1\n",
    "\\right)\n",
    "+RI\n",
    "$$"
   ]
  },
  {
   "cell_type": "markdown",
   "metadata": {},
   "source": [
    "In the simplest case, we assume that $R=0$ and $\\eta_1= \\eta_2$, $J_{01}=J_{02}$. Then we obtain a simple equation:\n",
    "\n",
    "$$\n",
    "J_1=\n",
    "J_{01} \n",
    "\\frac{\n",
    "e^{qV/k_BT}-1\n",
    "}\n",
    "{\n",
    "(A_1/A_2) e^{qV/k_BT}+1\n",
    "}\n",
    "$$\n"
   ]
  },
  {
   "cell_type": "code",
   "execution_count": 83,
   "metadata": {},
   "outputs": [
    {
     "data": {
      "image/png": "[encoded data removed]",
      "text/plain": [
       "<Figure size 432x288 with 1 Axes>"
      ]
     },
     "metadata": {
      "needs_background": "light"
     },
     "output_type": "display_data"
    }
   ],
   "source": [
    "texp= np.exp(q*V/(kB*T))\n",
    "J= J0* (texp-1)/(2*texp+1)\n",
    "plt.figure()\n",
    "plt.plot(V, J)\n",
    "plt.show()"
   ]
  },
  {
   "cell_type": "markdown",
   "metadata": {},
   "source": [
    "Now we take the formula of PSSA, which is basically the same, to reproduce the figure of the paper.\n",
    "$$\n",
    "V= \\frac{\\eta_1k_B T}{q}\n",
    "\\ln\n",
    "\\left(\n",
    "\\frac\n",
    "{J}\n",
    "{J_{01}}+1\n",
    "\\right)\n",
    "-\n",
    "\\frac\n",
    "{\\eta_2 k_B T}\n",
    "{q}\n",
    "\\ln\n",
    "\\left(\n",
    "-\n",
    "\\frac\n",
    "{J}\n",
    "{J_{02}}+1\n",
    "\\right)\n",
    "+RAJ\n",
    "$$\n",
    "\n"
   ]
  },
  {
   "cell_type": "code",
   "execution_count": 216,
   "metadata": {},
   "outputs": [],
   "source": [
    "hbar= 1.05457173e-34\n",
    "hh= 2*np.pi*hbar\n",
    "Ass=4*np.pi*q*kB**2*9.1e-31/(hh**3)\n",
    "mr=1.2 #electron lass silicon\n",
    "A=1e-6 # /m^2, area of the device\n",
    "\n",
    "def two_schottky(eta1, eta2, phiB1, phiB2, R):\n",
    "    J01= Ass*mr*T*T* np.exp(-phiB1*q/(kB*T))\n",
    "    J02= Ass*mr*T*T* np.exp(-phiB2*q/(kB*T))\n",
    "    tl= np.linspace(-13,1,2000)\n",
    "    tJ1= -np.exp(tl)*J01*0.999/np.exp(1.0)\n",
    "    tJ2=  np.exp(tl)*J02*0.999/np.exp(1.0)\n",
    "    tJ= np.hstack((tJ1, tJ2))\n",
    "    #tJ= np.linspace(-J01*0.99,J02*0.99,225000)\n",
    "    tV= eta1*kB*T/q* np.log(tJ/J01+1) -1*eta2*kB*T/q* np.log(-tJ/J02+1)+R*A*tJ\n",
    "    return (tV, tJ)\n",
    "\n",
    "def myplot(tV,tJ):\n",
    "    plt.figure()\n",
    "    plt.semilogy(tV, np.abs(tJ*1e-4),'o')\n",
    "    plt.grid()\n",
    "    plt.axis([-0.5, 1.5, 0.01, 1E4])\n",
    "    plt.xlabel('Volt(V)')\n",
    "    plt.ylabel('current density (A/cm2)')\n",
    "    plt.show()"
   ]
  },
  {
   "cell_type": "code",
   "execution_count": 226,
   "metadata": {},
   "outputs": [
    {
     "data": {
      "image/png": "[encoded data removed]",
      "text/plain": [
       "<Figure size 432x288 with 1 Axes>"
      ]
     },
     "metadata": {
      "needs_background": "light"
     },
     "output_type": "display_data"
    }
   ],
   "source": [
    "(tV, tJ)= two_schottky(1.0,1.0, 0.5, 0.2, 0)\n",
    "myplot(tV,tJ)\n"
   ]
  },
  {
   "cell_type": "code",
   "execution_count": 219,
   "metadata": {},
   "outputs": [
    {
     "data": {
      "image/png": "[encoded data removed]",
      "text/plain": [
       "<Figure size 432x288 with 1 Axes>"
      ]
     },
     "metadata": {
      "needs_background": "light"
     },
     "output_type": "display_data"
    }
   ],
   "source": [
    "\n",
    "(tV, tJ)= two_schottky(1.0,1.0, 0.7, 0.7, 0.1)\n",
    "plt.figure()\n",
    "plt.plot(tV, tJ)\n",
    "plt.grid()\n",
    "plt.show()"
   ]
  }
 ],
 "metadata": {
  "celltoolbar": "Aucun(e)",
  "kernelspec": {
   "display_name": "Python 3",
   "language": "python",
   "name": "python3"
  },
  "language_info": {
   "codemirror_mode": {
    "name": "ipython",
    "version": 3
   },
   "file_extension": ".py",
   "mimetype": "text/x-python",
   "name": "python",
   "nbconvert_exporter": "python",
   "pygments_lexer": "ipython3",
   "version": "3.7.4"
  }
 },
 "nbformat": 4,
 "nbformat_minor": 2
}
